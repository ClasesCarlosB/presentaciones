{
 "cells": [
  {
   "cell_type": "code",
   "execution_count": 1,
   "id": "1c6ff41f",
   "metadata": {},
   "outputs": [
    {
     "data": {
      "text/plain": [
       "'\\nRepaso de funciones\\n\\ndef nombre(argumentos):\\n    #bloque de codigo\\n    return valor\\n\\n'"
      ]
     },
     "execution_count": 1,
     "metadata": {},
     "output_type": "execute_result"
    }
   ],
   "source": [
    "\"\"\"\n",
    "Repaso de funciones\n",
    "\n",
    "def nombre(argumentos):\n",
    "    #bloque de codigo\n",
    "    return valor\n",
    "\n",
    "\"\"\""
   ]
  },
  {
   "cell_type": "code",
   "execution_count": 35,
   "id": "8a455189",
   "metadata": {},
   "outputs": [],
   "source": [
    "def sumar(a=1,b=2,c=3):\n",
    "    \"\"\"\n",
    "    Este es un ejemplo de la funcion sumar()\n",
    "    La fucion sumar permite sumar 3 variables.\n",
    "    a, b y c\n",
    "    Los argumentos tienen valores por defecto\n",
    "    a=1\n",
    "    b=2\n",
    "    c=3\n",
    "    \n",
    "    Ejemplo\n",
    "    sumar(10,20,30)\n",
    "    >>>60\n",
    "    \"\"\"\n",
    "    d = a + b + c\n",
    "    print(d)"
   ]
  },
  {
   "cell_type": "code",
   "execution_count": 30,
   "id": "047245e0",
   "metadata": {},
   "outputs": [
    {
     "name": "stdout",
     "output_type": "stream",
     "text": [
      "Help on function sumar in module __main__:\n",
      "\n",
      "sumar(a=1, b=2, c=3)\n",
      "    Este es un ejemplo de la funcion sumar()\n",
      "    La fucion sumar permite sumar 3 variables.\n",
      "    a, b y c\n",
      "    Los argumentos tienen valores por defecto\n",
      "    a=1\n",
      "    b=2\n",
      "    c=3\n",
      "    \n",
      "    Ejemplo\n",
      "    sumar(10,20,30)\n",
      "    >>>60\n",
      "\n"
     ]
    }
   ],
   "source": [
    "help(sumar)"
   ]
  },
  {
   "cell_type": "code",
   "execution_count": 34,
   "id": "89998aa8",
   "metadata": {},
   "outputs": [],
   "source": [
    "def ejemplo(*args):\n",
    "    print(args)\n",
    "    "
   ]
  },
  {
   "cell_type": "code",
   "execution_count": 33,
   "id": "494e58ce",
   "metadata": {},
   "outputs": [
    {
     "name": "stdout",
     "output_type": "stream",
     "text": [
      "(10, 20, 30, 50, 60, 100, 600)\n"
     ]
    }
   ],
   "source": [
    "sumar(10,20,30,50,60,100,600)"
   ]
  },
  {
   "cell_type": "code",
   "execution_count": 36,
   "id": "ae295e48",
   "metadata": {},
   "outputs": [],
   "source": [
    "def ejemplo2(**kwargs):\n",
    "    print(kwargs)\n",
    "    "
   ]
  },
  {
   "cell_type": "code",
   "execution_count": 37,
   "id": "033d539c",
   "metadata": {},
   "outputs": [
    {
     "name": "stdout",
     "output_type": "stream",
     "text": [
      "{'a': 100, 'apellido': 'Rodriguez', 'edad': 100}\n"
     ]
    }
   ],
   "source": [
    "ejemplo2(a=100,apellido=\"Rodriguez\",edad=100)"
   ]
  },
  {
   "cell_type": "code",
   "execution_count": 38,
   "id": "3dc17d50",
   "metadata": {},
   "outputs": [
    {
     "name": "stdout",
     "output_type": "stream",
     "text": [
      "{'a': 100, 'apellido': 'Rodriguez', 'edad': 100, 'sube': 501.5}\n"
     ]
    }
   ],
   "source": [
    "ejemplo2(a=100,apellido=\"Rodriguez\",edad=100,sube=501.5)"
   ]
  },
  {
   "cell_type": "code",
   "execution_count": 39,
   "id": "7330cb54",
   "metadata": {},
   "outputs": [
    {
     "name": "stdout",
     "output_type": "stream",
     "text": [
      "Hola Juan tenes 50 años\n"
     ]
    }
   ],
   "source": [
    "nombre = \"Juan\"\n",
    "edad = 50\n",
    "\n",
    "print(\"Hola\",nombre,\"tenes\",edad,\"años\")"
   ]
  },
  {
   "cell_type": "code",
   "execution_count": 49,
   "id": "1bef7f12",
   "metadata": {},
   "outputs": [],
   "source": [
    "\"\"\"\n",
    "Construir una función que se llame suma_acotados.\n",
    "Esta función debe tomar un número arbitrario de\n",
    "argumentos posicionales y un keyword argument\n",
    "llamado cota que por defecto debe tener el valor\n",
    "None. \n",
    "\n",
    "Si el argumento cota es None, debe sumar\n",
    "todos los números, si no debe sumar los números \n",
    "que se encuentren entre –cota y cota.\n",
    "\n",
    "\"\"\"\n",
    "\n",
    "def suma_acotados(*args,cota=None):\n",
    "    if cota == None:\n",
    "        suma = 0\n",
    "        for n in args:\n",
    "            suma = suma + n\n",
    "    else:\n",
    "        modulo = abs(cota)\n",
    "        suma = 0\n",
    "        for n in args:\n",
    "            if n > (-1*modulo) and n<(1*modulo):\n",
    "                suma = suma + n\n",
    "    print(suma)"
   ]
  },
  {
   "cell_type": "code",
   "execution_count": 56,
   "id": "6c318237",
   "metadata": {},
   "outputs": [
    {
     "name": "stdout",
     "output_type": "stream",
     "text": [
      "5\n"
     ]
    }
   ],
   "source": [
    "suma_acotados(-10,15,20,cota=16)"
   ]
  },
  {
   "cell_type": "code",
   "execution_count": 71,
   "id": "bf416afd",
   "metadata": {},
   "outputs": [],
   "source": [
    "def sumar(x):\n",
    "    return x+100\n",
    "\n",
    "def cuadrado(x):\n",
    "    return x**2\n",
    "\n",
    "def dividir(x):\n",
    "    return x/2\n",
    "\n",
    "\n",
    "def aplicar(f,conjunto):\n",
    "    aux = []\n",
    "    for n in conjunto:\n",
    "        aux.append(f(n))\n",
    "    return aux"
   ]
  },
  {
   "cell_type": "code",
   "execution_count": 72,
   "id": "7e4183ab",
   "metadata": {},
   "outputs": [
    {
     "data": {
      "text/plain": [
       "[1, 4, 9]"
      ]
     },
     "execution_count": 72,
     "metadata": {},
     "output_type": "execute_result"
    }
   ],
   "source": [
    "aplicar(cuadrado,[1,2,3])"
   ]
  },
  {
   "cell_type": "code",
   "execution_count": 73,
   "id": "abc4cb8e",
   "metadata": {},
   "outputs": [
    {
     "data": {
      "text/plain": [
       "[5.0, 10.0, 15.0]"
      ]
     },
     "execution_count": 73,
     "metadata": {},
     "output_type": "execute_result"
    }
   ],
   "source": [
    "aplicar(dividir,[10,20,30])"
   ]
  },
  {
   "cell_type": "code",
   "execution_count": 74,
   "id": "1d00ee2d",
   "metadata": {},
   "outputs": [
    {
     "data": {
      "text/plain": [
       "[105, 101, 2100]"
      ]
     },
     "execution_count": 74,
     "metadata": {},
     "output_type": "execute_result"
    }
   ],
   "source": [
    "aplicar(sumar,[5,1,2000])"
   ]
  },
  {
   "cell_type": "code",
   "execution_count": 75,
   "id": "af2b2203",
   "metadata": {},
   "outputs": [
    {
     "data": {
      "text/plain": [
       "[4, 25, 100]"
      ]
     },
     "execution_count": 75,
     "metadata": {},
     "output_type": "execute_result"
    }
   ],
   "source": [
    "\"\"\"\n",
    "Funciones anonimas\n",
    "\n",
    "lambda x : x**2\n",
    "\n",
    "def nombre(x):\n",
    "    return x**2\n",
    "\"\"\"\n",
    "\n",
    "aplicar(lambda x:x**2,[2,5,10])"
   ]
  },
  {
   "cell_type": "code",
   "execution_count": 77,
   "id": "4dc505aa",
   "metadata": {},
   "outputs": [
    {
     "data": {
      "text/plain": [
       "[4, 25, 100]"
      ]
     },
     "execution_count": 77,
     "metadata": {},
     "output_type": "execute_result"
    }
   ],
   "source": [
    "list(map(lambda x:x**2,[2,5,10]))"
   ]
  },
  {
   "cell_type": "code",
   "execution_count": 80,
   "id": "abbea72c",
   "metadata": {},
   "outputs": [
    {
     "data": {
      "text/plain": [
       "[2780, 11120, 13900, 8340, 55600]"
      ]
     },
     "execution_count": 80,
     "metadata": {},
     "output_type": "execute_result"
    }
   ],
   "source": [
    "precios = [10,40,50,30,200]\n",
    "\n",
    "dolar =  278\n",
    "\n",
    "precios_pesos= list(map(lambda x:x*dolar,precios))\n",
    "precios_pesos"
   ]
  },
  {
   "cell_type": "code",
   "execution_count": 81,
   "id": "7304c3ca",
   "metadata": {},
   "outputs": [
    {
     "name": "stdout",
     "output_type": "stream",
     "text": [
      "Requirement already satisfied: requests in c:\\users\\distancia\\anaconda3\\lib\\site-packages (2.28.1)\n",
      "Requirement already satisfied: charset-normalizer<3,>=2 in c:\\users\\distancia\\anaconda3\\lib\\site-packages (from requests) (2.0.4)\n",
      "Requirement already satisfied: urllib3<1.27,>=1.21.1 in c:\\users\\distancia\\anaconda3\\lib\\site-packages (from requests) (1.26.14)\n",
      "Requirement already satisfied: idna<4,>=2.5 in c:\\users\\distancia\\anaconda3\\lib\\site-packages (from requests) (3.4)\n",
      "Requirement already satisfied: certifi>=2017.4.17 in c:\\users\\distancia\\anaconda3\\lib\\site-packages (from requests) (2022.12.7)\n",
      "Note: you may need to restart the kernel to use updated packages.\n"
     ]
    }
   ],
   "source": [
    "pip install requests"
   ]
  },
  {
   "cell_type": "code",
   "execution_count": 83,
   "id": "67371e1d",
   "metadata": {},
   "outputs": [],
   "source": [
    "import requests\n",
    "r = requests.get(\"https://www.dolarsi.com/api/api.php?type=valoresprincipales\")"
   ]
  },
  {
   "cell_type": "code",
   "execution_count": 89,
   "id": "bbdc769c",
   "metadata": {},
   "outputs": [
    {
     "data": {
      "text/plain": [
       "'277,77'"
      ]
     },
     "execution_count": 89,
     "metadata": {},
     "output_type": "execute_result"
    }
   ],
   "source": [
    "r.json()[0][\"casa\"][\"venta\"]"
   ]
  },
  {
   "cell_type": "code",
   "execution_count": 91,
   "id": "559c3c36",
   "metadata": {},
   "outputs": [
    {
     "name": "stdout",
     "output_type": "stream",
     "text": [
      "# packages in environment at C:\\Users\\Distancia\\anaconda3:\n",
      "#\n",
      "# Name                    Version                   Build  Channel\n",
      "alabaster                 0.7.12             pyhd3eb1b0_0  \n",
      "anaconda-client           1.11.2          py310haa95532_0  \n",
      "anaconda-navigator        2.4.0           py310haa95532_0  \n",
      "anaconda-project          0.11.1          py310haa95532_0  \n",
      "anyio                     3.5.0           py310haa95532_0  \n",
      "appdirs                   1.4.4              pyhd3eb1b0_0  \n",
      "argon2-cffi               21.3.0             pyhd3eb1b0_0  \n",
      "argon2-cffi-bindings      21.2.0          py310h2bbff1b_0  \n",
      "arrow                     1.2.3           py310haa95532_1  \n",
      "astroid                   2.14.2          py310haa95532_0  \n",
      "astropy                   5.1             py310h9128911_0  \n",
      "asttokens                 2.0.5              pyhd3eb1b0_0  \n",
      "atomicwrites              1.4.0                      py_0  \n",
      "attrs                     22.1.0          py310haa95532_0  \n",
      "automat                   20.2.0                     py_0  \n",
      "autopep8                  1.6.0              pyhd3eb1b0_1  \n",
      "babel                     2.11.0          py310haa95532_0  \n",
      "backcall                  0.2.0              pyhd3eb1b0_0  \n",
      "backports                 1.1                pyhd3eb1b0_0  \n",
      "backports.functools_lru_cache 1.6.4              pyhd3eb1b0_0  \n",
      "backports.tempfile        1.0                pyhd3eb1b0_1  \n",
      "backports.weakref         1.0.post1                  py_1  \n",
      "bcrypt                    3.2.0           py310h2bbff1b_1  \n",
      "beautifulsoup4            4.11.1          py310haa95532_0  \n",
      "binaryornot               0.4.4              pyhd3eb1b0_1  \n",
      "black                     22.6.0          py310haa95532_0  \n",
      "blas                      1.0                         mkl  \n",
      "bleach                    4.1.0              pyhd3eb1b0_0  \n",
      "blosc                     1.21.3               h6c2663c_0  \n",
      "bokeh                     2.4.3           py310haa95532_0  \n",
      "boltons                   23.0.0          py310haa95532_0  \n",
      "bottleneck                1.3.5           py310h9128911_0  \n",
      "brotli                    1.0.9                h2bbff1b_7  \n",
      "brotli-bin                1.0.9                h2bbff1b_7  \n",
      "brotlipy                  0.7.0           py310h2bbff1b_1002  \n",
      "bzip2                     1.0.8                he774522_0  \n",
      "ca-certificates           2023.01.10           haa95532_0  \n",
      "certifi                   2022.12.7       py310haa95532_0  \n",
      "cffi                      1.15.1          py310h2bbff1b_3  \n",
      "cfitsio                   3.470                h2bbff1b_7  \n",
      "chardet                   4.0.0           py310haa95532_1003  \n",
      "charls                    2.2.0                h6c2663c_0  \n",
      "charset-normalizer        2.0.4              pyhd3eb1b0_0  \n",
      "click                     8.0.4           py310haa95532_0  \n",
      "cloudpickle               2.0.0              pyhd3eb1b0_0  \n",
      "clyent                    1.2.2           py310haa95532_1  \n",
      "colorama                  0.4.6           py310haa95532_0  \n",
      "colorcet                  3.0.1           py310haa95532_0  \n",
      "comm                      0.1.2           py310haa95532_0  \n",
      "conda                     23.3.1          py310haa95532_0  \n",
      "conda-build               3.24.0          py310haa95532_0  \n",
      "conda-content-trust       0.1.3           py310haa95532_0  \n",
      "conda-pack                0.6.0              pyhd3eb1b0_0  \n",
      "conda-package-handling    2.0.2           py310haa95532_0  \n",
      "conda-package-streaming   0.7.0           py310haa95532_0  \n",
      "conda-repo-cli            1.0.41          py310haa95532_0  \n",
      "conda-token               0.4.0              pyhd3eb1b0_0  \n",
      "conda-verify              3.4.2                      py_1  \n",
      "console_shortcut          0.1.1                         4  \n",
      "constantly                15.1.0          py310haa95532_0  \n",
      "contourpy                 1.0.5           py310h59b6b97_0  \n",
      "cookiecutter              1.7.3              pyhd3eb1b0_0  \n",
      "cryptography              39.0.1          py310h21b164f_0  \n",
      "cssselect                 1.1.0              pyhd3eb1b0_0  \n",
      "curl                      7.87.0               h2bbff1b_0  \n",
      "cycler                    0.11.0             pyhd3eb1b0_0  \n",
      "cytoolz                   0.12.0          py310h2bbff1b_0  \n",
      "daal4py                   2023.0.2        py310hf497b98_0  \n",
      "dal                       2023.0.1         h59b6b97_26646  \n",
      "dask                      2022.7.0        py310haa95532_0  \n",
      "dask-core                 2022.7.0        py310haa95532_0  \n",
      "datashader                0.14.4          py310haa95532_0  \n",
      "datashape                 0.5.4           py310haa95532_1  \n",
      "debugpy                   1.5.1           py310hd77b12b_0  \n",
      "decorator                 5.1.1              pyhd3eb1b0_0  \n",
      "defusedxml                0.7.1              pyhd3eb1b0_0  \n",
      "diff-match-patch          20200713           pyhd3eb1b0_0  \n",
      "dill                      0.3.6           py310haa95532_0  \n",
      "distributed               2022.7.0        py310haa95532_0  \n",
      "docstring-to-markdown     0.11            py310haa95532_0  \n",
      "docutils                  0.18.1          py310haa95532_3  \n",
      "entrypoints               0.4             py310haa95532_0  \n",
      "et_xmlfile                1.1.0           py310haa95532_0  \n",
      "executing                 0.8.3              pyhd3eb1b0_0  \n",
      "filelock                  3.9.0           py310haa95532_0  \n",
      "flake8                    6.0.0           py310haa95532_0  \n",
      "flask                     2.2.2           py310haa95532_0  \n",
      "flit-core                 3.6.0              pyhd3eb1b0_0  \n",
      "fonttools                 4.25.0             pyhd3eb1b0_0  \n",
      "freetype                  2.12.1               ha860e81_0  \n",
      "fsspec                    2022.11.0       py310haa95532_0  \n",
      "future                    0.18.3          py310haa95532_0  \n",
      "gensim                    4.3.0           py310h4ed8f06_0  \n",
      "geojson                   3.0.1                    pypi_0    pypi\n",
      "giflib                    5.2.1                h8cc25b3_3  \n",
      "glib                      2.69.1               h5dc1a3c_2  \n",
      "glob2                     0.7                pyhd3eb1b0_0  \n",
      "gmaps                     0.9.0                    pypi_0    pypi\n",
      "greenlet                  2.0.1           py310hd77b12b_0  \n",
      "gst-plugins-base          1.18.5               h9e645db_0  \n",
      "gstreamer                 1.18.5               hd78058f_0  \n",
      "h5py                      3.7.0           py310hfc34f40_0  \n",
      "hdf5                      1.10.6               h1756f20_1  \n",
      "heapdict                  1.0.1              pyhd3eb1b0_0  \n",
      "holoviews                 1.15.4          py310haa95532_0  \n",
      "huggingface_hub           0.10.1          py310haa95532_0  \n",
      "hvplot                    0.8.2           py310haa95532_0  \n",
      "hyperlink                 21.0.0             pyhd3eb1b0_0  \n",
      "icc_rt                    2022.1.0             h6049295_2  \n",
      "icu                       58.2                 ha925a31_3  \n",
      "idna                      3.4             py310haa95532_0  \n",
      "imagecodecs               2021.8.26       py310h4c966c4_2  \n",
      "imageio                   2.26.0          py310haa95532_0  \n",
      "imagesize                 1.4.1           py310haa95532_0  \n",
      "imbalanced-learn          0.10.1          py310haa95532_0  \n",
      "importlib-metadata        4.11.3          py310haa95532_0  \n",
      "importlib_metadata        4.11.3               hd3eb1b0_0  \n",
      "incremental               21.3.0             pyhd3eb1b0_0  \n",
      "inflection                0.5.1           py310haa95532_0  \n",
      "iniconfig                 1.1.1              pyhd3eb1b0_0  \n",
      "intake                    0.6.7           py310haa95532_0  \n",
      "intel-openmp              2021.4.0          haa95532_3556  \n",
      "intervaltree              3.1.0              pyhd3eb1b0_0  \n",
      "ipykernel                 6.19.2          py310h9909e9c_0  \n",
      "ipython                   8.10.0          py310haa95532_0  \n",
      "ipython_genutils          0.2.0              pyhd3eb1b0_1  \n",
      "ipywidgets                7.6.5              pyhd3eb1b0_1  \n",
      "isort                     5.9.3              pyhd3eb1b0_0  \n",
      "itemadapter               0.3.0              pyhd3eb1b0_0  \n",
      "itemloaders               1.0.4              pyhd3eb1b0_1  \n",
      "itsdangerous              2.0.1              pyhd3eb1b0_0  \n",
      "jedi                      0.18.1          py310haa95532_1  \n",
      "jellyfish                 0.9.0           py310h2bbff1b_0  \n",
      "jinja2                    3.1.2           py310haa95532_0  \n",
      "jinja2-time               0.2.0              pyhd3eb1b0_3  \n",
      "jmespath                  0.10.0             pyhd3eb1b0_0  \n",
      "joblib                    1.1.1           py310haa95532_0  \n",
      "jpeg                      9e                   h2bbff1b_1  \n",
      "jq                        1.6                  haa95532_1  \n",
      "json5                     0.9.6              pyhd3eb1b0_0  \n",
      "jsonpatch                 1.32               pyhd3eb1b0_0  \n",
      "jsonpointer               2.1                pyhd3eb1b0_0  \n",
      "jsonschema                4.17.3          py310haa95532_0  \n",
      "jupyter                   1.0.0           py310haa95532_8  \n",
      "jupyter_client            7.3.4           py310haa95532_0  \n",
      "jupyter_console           6.6.2           py310haa95532_0  \n",
      "jupyter_core              5.2.0           py310haa95532_0  \n",
      "jupyter_server            1.23.4          py310haa95532_0  \n",
      "jupyterlab                3.5.3           py310haa95532_0  \n",
      "jupyterlab_pygments       0.1.2                      py_0  \n",
      "jupyterlab_server         2.19.0          py310haa95532_0  \n",
      "jupyterlab_widgets        1.0.0              pyhd3eb1b0_1  \n",
      "jxrlib                    1.1                  he774522_2  \n",
      "keyring                   23.4.0          py310haa95532_0  \n",
      "kiwisolver                1.4.4           py310hd77b12b_0  \n",
      "lazy-object-proxy         1.6.0           py310h2bbff1b_0  \n",
      "lcms2                     2.12                 h83e58a3_0  \n",
      "lerc                      3.0                  hd77b12b_0  \n",
      "libaec                    1.0.4                h33f27b4_1  \n",
      "libarchive                3.6.2                hebabd0d_0  \n",
      "libbrotlicommon           1.0.9                h2bbff1b_7  \n",
      "libbrotlidec              1.0.9                h2bbff1b_7  \n",
      "libbrotlienc              1.0.9                h2bbff1b_7  \n",
      "libclang                  12.0.0          default_h627e005_2  \n",
      "libcurl                   7.87.0               h86230a5_0  \n",
      "libdeflate                1.17                 h2bbff1b_0  \n",
      "libffi                    3.4.2                hd77b12b_6  \n",
      "libiconv                  1.16                 h2bbff1b_2  \n",
      "liblief                   0.12.3               hd77b12b_0  \n",
      "libogg                    1.3.5                h2bbff1b_1  \n",
      "libpng                    1.6.39               h8cc25b3_0  \n",
      "libsodium                 1.0.18               h62dcd97_0  \n",
      "libspatialindex           1.9.3                h6c2663c_0  \n",
      "libssh2                   1.10.0               hcd4344a_0  \n",
      "libtiff                   4.5.0                h6c2663c_2  \n",
      "libuv                     1.44.2               h2bbff1b_0  \n",
      "libvorbis                 1.3.7                he774522_0  \n",
      "libwebp                   1.2.4                hbc33d0d_1  \n",
      "libwebp-base              1.2.4                h2bbff1b_1  \n",
      "libxml2                   2.9.14               h0ad7f3c_0  \n",
      "libxslt                   1.1.35               h2bbff1b_0  \n",
      "libzopfli                 1.0.3                ha925a31_0  \n",
      "llvmlite                  0.39.1          py310h23ce68f_0  \n",
      "locket                    1.0.0           py310haa95532_0  \n",
      "lxml                      4.9.1           py310h1985fb9_0  \n",
      "lz4                       3.1.3           py310h2bbff1b_0  \n",
      "lz4-c                     1.9.4                h2bbff1b_0  \n",
      "lzo                       2.10                 he774522_2  \n",
      "m2-msys2-runtime          2.5.0.17080.65c939c               3  \n",
      "m2-patch                  2.7.5                         2  \n",
      "m2w64-libwinpthread-git   5.0.0.4634.697f757               2  \n",
      "markdown                  3.4.1           py310haa95532_0  \n",
      "markupsafe                2.1.1           py310h2bbff1b_0  \n",
      "matplotlib                3.7.0           py310haa95532_0  \n",
      "matplotlib-base           3.7.0           py310h4ed8f06_0  \n",
      "matplotlib-inline         0.1.6           py310haa95532_0  \n",
      "mccabe                    0.7.0              pyhd3eb1b0_0  \n",
      "menuinst                  1.4.19          py310h59b6b97_0  \n",
      "mistune                   0.8.4           py310h2bbff1b_1000  \n",
      "mkl                       2021.4.0           haa95532_640  \n",
      "mkl-service               2.4.0           py310h2bbff1b_0  \n",
      "mkl_fft                   1.3.1           py310ha0764ea_0  \n",
      "mkl_random                1.2.2           py310h4ed8f06_0  \n",
      "mock                      4.0.3              pyhd3eb1b0_0  \n",
      "mpmath                    1.2.1           py310haa95532_0  \n",
      "msgpack-python            1.0.3           py310h59b6b97_0  \n",
      "msys2-conda-epoch         20160418                      1  \n",
      "multipledispatch          0.6.0           py310haa95532_0  \n",
      "munkres                   1.1.4                      py_0  \n",
      "mypy_extensions           0.4.3           py310haa95532_1  \n",
      "navigator-updater         0.3.0           py310haa95532_0  \n",
      "nbclassic                 0.5.2           py310haa95532_0  \n",
      "nbclient                  0.5.13          py310haa95532_0  \n",
      "nbconvert                 6.5.4           py310haa95532_0  \n",
      "nbformat                  5.7.0           py310haa95532_0  \n",
      "nest-asyncio              1.5.6           py310haa95532_0  \n",
      "networkx                  2.8.4           py310haa95532_0  \n",
      "ninja                     1.10.2               haa95532_5  \n",
      "ninja-base                1.10.2               h6d14046_5  \n",
      "nltk                      3.7                pyhd3eb1b0_0  \n",
      "notebook                  6.5.2           py310haa95532_0  \n",
      "notebook-shim             0.2.2           py310haa95532_0  \n",
      "numba                     0.56.4          py310h4ed8f06_0  \n",
      "numexpr                   2.8.4           py310hd213c9f_0  \n",
      "numpy                     1.23.5          py310h60c9a35_0  \n",
      "numpy-base                1.23.5          py310h04254f7_0  \n",
      "numpydoc                  1.5.0           py310haa95532_0  \n",
      "openjpeg                  2.4.0                h4fc8c34_0  \n",
      "openpyxl                  3.0.10          py310h2bbff1b_0  \n",
      "openssl                   1.1.1t               h2bbff1b_0  \n",
      "packaging                 22.0            py310haa95532_0  \n",
      "pandas                    1.5.3           py310h4ed8f06_0  \n",
      "pandocfilters             1.5.0              pyhd3eb1b0_0  \n",
      "panel                     0.14.3          py310haa95532_0  \n",
      "param                     1.12.3          py310haa95532_0  \n",
      "paramiko                  2.8.1              pyhd3eb1b0_0  \n",
      "parsel                    1.6.0           py310haa95532_0  \n",
      "parso                     0.8.3              pyhd3eb1b0_0  \n",
      "partd                     1.2.0              pyhd3eb1b0_1  \n",
      "pathlib                   1.0.1              pyhd3eb1b0_1  \n",
      "pathspec                  0.10.3          py310haa95532_0  \n",
      "patsy                     0.5.3           py310haa95532_0  \n",
      "pcre                      8.45                 hd77b12b_0  \n",
      "pep8                      1.7.1           py310haa95532_1  \n",
      "pexpect                   4.8.0              pyhd3eb1b0_3  \n",
      "pickleshare               0.7.5           pyhd3eb1b0_1003  \n",
      "pillow                    9.4.0           py310hd77b12b_0  \n",
      "pip                       22.3.1          py310haa95532_0  \n",
      "pkginfo                   1.9.6           py310haa95532_0  \n",
      "platformdirs              2.5.2           py310haa95532_0  \n",
      "plotly                    5.9.0           py310haa95532_0  \n",
      "pluggy                    1.0.0           py310haa95532_1  \n",
      "ply                       3.11            py310haa95532_0  \n",
      "pooch                     1.4.0              pyhd3eb1b0_0  \n",
      "powershell_shortcut       0.0.1                         3  \n",
      "poyo                      0.5.0              pyhd3eb1b0_0  \n",
      "prometheus_client         0.14.1          py310haa95532_0  \n",
      "prompt-toolkit            3.0.36          py310haa95532_0  \n",
      "prompt_toolkit            3.0.36               hd3eb1b0_0  \n",
      "protego                   0.1.16                     py_0  \n",
      "psutil                    5.9.0           py310h2bbff1b_0  \n",
      "ptyprocess                0.7.0              pyhd3eb1b0_2  \n",
      "pure_eval                 0.2.2              pyhd3eb1b0_0  \n",
      "py                        1.11.0             pyhd3eb1b0_0  \n",
      "py-lief                   0.12.3          py310hd77b12b_0  \n",
      "pyasn1                    0.4.8              pyhd3eb1b0_0  \n",
      "pyasn1-modules            0.2.8                      py_0  \n",
      "pycodestyle               2.10.0          py310haa95532_0  \n",
      "pycosat                   0.6.4           py310h2bbff1b_0  \n",
      "pycparser                 2.21               pyhd3eb1b0_0  \n",
      "pyct                      0.5.0           py310haa95532_0  \n",
      "pycurl                    7.45.1          py310hcd4344a_0  \n",
      "pydispatcher              2.0.5           py310haa95532_2  \n",
      "pydocstyle                6.3.0           py310haa95532_0  \n",
      "pyerfa                    2.0.0           py310h2bbff1b_0  \n",
      "pyflakes                  3.0.1           py310haa95532_0  \n",
      "pygments                  2.11.2             pyhd3eb1b0_0  \n",
      "pyhamcrest                2.0.2              pyhd3eb1b0_2  \n",
      "pyjwt                     2.4.0           py310haa95532_0  \n",
      "pylint                    2.16.2          py310haa95532_0  \n",
      "pylint-venv               2.3.0                    pypi_0    pypi\n",
      "pyls-spyder               0.4.0              pyhd3eb1b0_0  \n",
      "pynacl                    1.5.0           py310h8cc25b3_0  \n",
      "pyodbc                    4.0.34          py310hd77b12b_0  \n",
      "pyopenssl                 23.0.0          py310haa95532_0  \n",
      "pyparsing                 3.0.9           py310haa95532_0  \n",
      "pyqt                      5.15.7          py310hd77b12b_0  \n",
      "pyqt5-sip                 12.11.0         py310hd77b12b_0  \n",
      "pyqtwebengine             5.15.7          py310hd77b12b_0  \n",
      "pyrsistent                0.18.0          py310h2bbff1b_0  \n",
      "pysocks                   1.7.1           py310haa95532_0  \n",
      "pytables                  3.7.0           py310h388bc9b_1  \n",
      "pytest                    7.1.2           py310haa95532_0  \n",
      "python                    3.10.9               h966fe2a_1  \n",
      "python-dateutil           2.8.2              pyhd3eb1b0_0  \n",
      "python-fastjsonschema     2.16.2          py310haa95532_0  \n",
      "python-libarchive-c       2.9                pyhd3eb1b0_1  \n",
      "python-lsp-black          1.2.1           py310haa95532_0  \n",
      "python-lsp-jsonrpc        1.0.0              pyhd3eb1b0_0  \n",
      "python-lsp-server         1.7.1           py310haa95532_0  \n",
      "python-slugify            5.0.2              pyhd3eb1b0_0  \n",
      "python-snappy             0.6.1           py310hd77b12b_0  \n",
      "pytoolconfig              1.2.5           py310haa95532_1  \n",
      "pytorch                   1.12.1          cpu_py310h5e1f01c_1  \n",
      "pytz                      2022.7          py310haa95532_0  \n",
      "pyviz_comms               2.0.2              pyhd3eb1b0_0  \n",
      "pywavelets                1.4.1           py310h2bbff1b_0  \n",
      "pywin32                   305             py310h2bbff1b_0  \n",
      "pywin32-ctypes            0.2.0           py310haa95532_1000  \n",
      "pywinpty                  2.0.10          py310h5da7b33_0  \n",
      "pyyaml                    6.0             py310h2bbff1b_1  \n",
      "pyzmq                     23.2.0          py310hd77b12b_0  \n",
      "qdarkstyle                3.0.2              pyhd3eb1b0_0  \n",
      "qstylizer                 0.2.2                    pypi_0    pypi\n",
      "qt-main                   5.15.2               he8e5bd7_7  \n",
      "qt-webengine              5.15.9               hb9a9bb5_5  \n",
      "qtawesome                 1.2.2                    pypi_0    pypi\n",
      "qtconsole                 5.4.0                    pypi_0    pypi\n",
      "qtpy                      2.2.0           py310haa95532_0  \n",
      "qtwebkit                  5.212                h3ad3cdb_4  \n",
      "queuelib                  1.5.0           py310haa95532_0  \n",
      "regex                     2022.7.9        py310h2bbff1b_0  \n",
      "requests                  2.28.1          py310haa95532_0  \n",
      "requests-file             1.5.1              pyhd3eb1b0_0  \n",
      "requests-toolbelt         0.9.1              pyhd3eb1b0_0  \n",
      "rope                      1.7.0           py310haa95532_0  \n",
      "rtree                     1.0.1           py310h2eaa2aa_0  \n",
      "ruamel.yaml               0.17.21         py310h2bbff1b_0  \n",
      "ruamel.yaml.clib          0.2.6           py310h2bbff1b_1  \n",
      "ruamel_yaml               0.17.21         py310h2bbff1b_0  \n",
      "scikit-image              0.19.3          py310hd77b12b_1  \n",
      "scikit-learn              1.2.1           py310hd77b12b_0  \n",
      "scikit-learn-intelex      2023.0.2        py310haa95532_0  \n",
      "scipy                     1.10.0          py310hb9afe5d_1  \n",
      "scrapy                    2.8.0           py310haa95532_0  \n",
      "seaborn                   0.12.2          py310haa95532_0  \n",
      "send2trash                1.8.0              pyhd3eb1b0_1  \n",
      "service_identity          18.1.0             pyhd3eb1b0_1  \n",
      "setuptools                65.6.3          py310haa95532_0  \n",
      "sip                       6.6.2           py310hd77b12b_0  \n",
      "six                       1.16.0             pyhd3eb1b0_1  \n",
      "smart_open                5.2.1           py310haa95532_0  \n",
      "snappy                    1.1.9                h6c2663c_0  \n",
      "sniffio                   1.2.0           py310haa95532_1  \n",
      "snowballstemmer           2.2.0              pyhd3eb1b0_0  \n",
      "sortedcontainers          2.4.0              pyhd3eb1b0_0  \n",
      "soupsieve                 2.3.2.post1     py310haa95532_0  \n",
      "sphinx                    5.0.2           py310haa95532_0  \n",
      "sphinxcontrib-applehelp   1.0.2              pyhd3eb1b0_0  \n",
      "sphinxcontrib-devhelp     1.0.2              pyhd3eb1b0_0  \n",
      "sphinxcontrib-htmlhelp    2.0.0              pyhd3eb1b0_0  \n",
      "sphinxcontrib-jsmath      1.0.1              pyhd3eb1b0_0  \n",
      "sphinxcontrib-qthelp      1.0.3              pyhd3eb1b0_0  \n",
      "sphinxcontrib-serializinghtml 1.1.5              pyhd3eb1b0_0  \n",
      "spyder                    5.4.1           py310haa95532_0  \n",
      "spyder-kernels            2.4.1           py310haa95532_0  \n",
      "sqlalchemy                1.4.39          py310h2bbff1b_0  \n",
      "sqlite                    3.40.1               h2bbff1b_0  \n",
      "stack_data                0.2.0              pyhd3eb1b0_0  \n",
      "statsmodels               0.13.5          py310h9128911_1  \n",
      "sympy                     1.11.1          py310haa95532_0  \n",
      "tabulate                  0.8.10          py310haa95532_0  \n",
      "tbb                       2021.7.0             h59b6b97_0  \n",
      "tbb4py                    2021.7.0        py310h59b6b97_0  \n",
      "tblib                     1.7.0              pyhd3eb1b0_0  \n",
      "tenacity                  8.0.1           py310haa95532_1  \n",
      "terminado                 0.17.1          py310haa95532_0  \n",
      "text-unidecode            1.3                pyhd3eb1b0_0  \n",
      "textdistance              4.2.1              pyhd3eb1b0_0  \n",
      "threadpoolctl             2.2.0              pyh0d69192_0  \n",
      "three-merge               0.1.1              pyhd3eb1b0_0  \n",
      "tifffile                  2021.7.2           pyhd3eb1b0_2  \n",
      "tinycss2                  1.2.1           py310haa95532_0  \n",
      "tk                        8.6.12               h2bbff1b_0  \n",
      "tldextract                3.2.0              pyhd3eb1b0_0  \n",
      "tokenizers                0.11.4          py310he5181cf_1  \n",
      "toml                      0.10.2             pyhd3eb1b0_0  \n",
      "tomli                     2.0.1           py310haa95532_0  \n",
      "tomlkit                   0.11.1          py310haa95532_0  \n",
      "toolz                     0.12.0          py310haa95532_0  \n",
      "tornado                   6.1             py310h2bbff1b_0  \n",
      "tqdm                      4.64.1          py310haa95532_0  \n",
      "traitlets                 5.7.1           py310haa95532_0  \n",
      "transformers              4.24.0          py310haa95532_0  \n",
      "twisted                   22.2.0          py310h2bbff1b_1  \n",
      "twisted-iocpsupport       1.0.2           py310h2bbff1b_0  \n",
      "typing-extensions         4.4.0           py310haa95532_0  \n",
      "typing_extensions         4.4.0           py310haa95532_0  \n",
      "tzdata                    2022g                h04d1e81_0  \n",
      "ujson                     5.4.0           py310hd77b12b_0  \n",
      "unidecode                 1.2.0              pyhd3eb1b0_0  \n",
      "urllib3                   1.26.14         py310haa95532_0  \n",
      "vc                        14.2                 h21ff451_1  \n",
      "vs2015_runtime            14.27.29016          h5e58377_2  \n",
      "w3lib                     1.21.0             pyhd3eb1b0_0  \n",
      "watchdog                  2.1.6           py310haa95532_0  \n",
      "wcwidth                   0.2.5              pyhd3eb1b0_0  \n",
      "webencodings              0.5.1           py310haa95532_1  \n",
      "websocket-client          0.58.0          py310haa95532_4  \n",
      "werkzeug                  2.2.2           py310haa95532_0  \n",
      "whatthepatch              1.0.2           py310haa95532_0  \n",
      "wheel                     0.38.4          py310haa95532_0  \n",
      "widgetsnbextension        3.5.2           py310haa95532_0  \n",
      "win_inet_pton             1.1.0           py310haa95532_0  \n",
      "wincertstore              0.2             py310haa95532_2  \n",
      "winpty                    0.4.3                         4  \n",
      "wordcloud                 1.9.2                    pypi_0    pypi\n",
      "wrapt                     1.14.1          py310h2bbff1b_0  \n",
      "xarray                    2022.11.0       py310haa95532_0  \n",
      "xlwings                   0.29.1          py310haa95532_0  \n",
      "xz                        5.2.10               h8cc25b3_1  \n",
      "yaml                      0.2.5                he774522_0  \n",
      "yapf                      0.31.0             pyhd3eb1b0_0  \n",
      "zeromq                    4.3.4                hd77b12b_0  \n",
      "zfp                       0.5.5                hd77b12b_6  \n",
      "zict                      2.1.0           py310haa95532_0  \n",
      "zipp                      3.11.0          py310haa95532_0  \n",
      "zlib                      1.2.13               h8cc25b3_0  \n",
      "zope                      1.0             py310haa95532_1  \n",
      "zope.interface            5.4.0           py310h2bbff1b_0  \n",
      "zstandard                 0.19.0          py310h2bbff1b_0  \n",
      "zstd                      1.5.2                h19a0ad4_0  \n",
      "\n",
      "Note: you may need to restart the kernel to use updated packages.\n"
     ]
    }
   ],
   "source": [
    "conda list"
   ]
  },
  {
   "cell_type": "code",
   "execution_count": 92,
   "id": "d7ac3311",
   "metadata": {},
   "outputs": [],
   "source": [
    "r = requests.get(\"https://www.bna.com.ar/Cotizador/MonedasHistorico\")"
   ]
  },
  {
   "cell_type": "code",
   "execution_count": 98,
   "id": "b9316f55",
   "metadata": {},
   "outputs": [],
   "source": [
    "texto = r.text"
   ]
  },
  {
   "cell_type": "code",
   "execution_count": 101,
   "id": "97e1110e",
   "metadata": {},
   "outputs": [],
   "source": [
    "dolar = float(texto[539:544])"
   ]
  },
  {
   "cell_type": "code",
   "execution_count": 102,
   "id": "0fcbe8ca",
   "metadata": {},
   "outputs": [],
   "source": [
    "numeros = [10,20,30]"
   ]
  },
  {
   "cell_type": "code",
   "execution_count": 105,
   "id": "8e643c58",
   "metadata": {},
   "outputs": [],
   "source": [
    "import numpy as np"
   ]
  },
  {
   "cell_type": "code",
   "execution_count": 106,
   "id": "6225e76d",
   "metadata": {},
   "outputs": [
    {
     "data": {
      "text/plain": [
       "array([1, 2, 3])"
      ]
     },
     "execution_count": 106,
     "metadata": {},
     "output_type": "execute_result"
    }
   ],
   "source": [
    "vector = np.array([1,2,3])\n",
    "vector"
   ]
  },
  {
   "cell_type": "code",
   "execution_count": 114,
   "id": "1c865ba2",
   "metadata": {},
   "outputs": [],
   "source": [
    "vector[2] = 5"
   ]
  },
  {
   "cell_type": "code",
   "execution_count": null,
   "id": "d2f25a91",
   "metadata": {},
   "outputs": [],
   "source": []
  },
  {
   "cell_type": "code",
   "execution_count": 116,
   "id": "2d2dcf9a",
   "metadata": {},
   "outputs": [
    {
     "data": {
      "text/plain": [
       "array([ 2,  4, 10])"
      ]
     },
     "execution_count": 116,
     "metadata": {},
     "output_type": "execute_result"
    }
   ],
   "source": [
    "vector*2"
   ]
  },
  {
   "cell_type": "code",
   "execution_count": 122,
   "id": "9eb05beb",
   "metadata": {},
   "outputs": [],
   "source": [
    "vector = vector * 2"
   ]
  },
  {
   "cell_type": "code",
   "execution_count": 123,
   "id": "f57d0f9c",
   "metadata": {},
   "outputs": [
    {
     "data": {
      "text/plain": [
       "array([ 4,  8, 20])"
      ]
     },
     "execution_count": 123,
     "metadata": {},
     "output_type": "execute_result"
    }
   ],
   "source": [
    "vector"
   ]
  }
 ],
 "metadata": {
  "kernelspec": {
   "display_name": "Python 3 (ipykernel)",
   "language": "python",
   "name": "python3"
  },
  "language_info": {
   "codemirror_mode": {
    "name": "ipython",
    "version": 3
   },
   "file_extension": ".py",
   "mimetype": "text/x-python",
   "name": "python",
   "nbconvert_exporter": "python",
   "pygments_lexer": "ipython3",
   "version": "3.10.9"
  }
 },
 "nbformat": 4,
 "nbformat_minor": 5
}
